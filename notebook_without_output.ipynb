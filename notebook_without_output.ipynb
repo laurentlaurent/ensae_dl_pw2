{
  "cells": [
    {
      "cell_type": "markdown",
      "metadata": {
        "id": "91eWH3ZiMtxH"
      },
      "source": [
        "# PW2 - VAE for MNIST clustering and generation\n",
        "\n",
        "In this practical, we will explore Variational Auto-Encoders (VAE) with the MNIST digit recognition dataset.\n",
        "The purpose of a VAE is to generate new samples \"looking like\" the training samples.\n",
        "For this purpose, we will construct a two-block model: encoder and decoder, one takes a sample and maps it to a latent space, the second takes a latent point and maps it to the sample space. If the latent distribution is roughly gaussian, this gives a way to get new samples: take a latent point at random,\n",
        "and map it to the sample space with the decoder."
      ]
    },
    {
      "cell_type": "code",
      "execution_count": null,
      "metadata": {
        "id": "ZuhVxmqVsV5W"
      },
      "outputs": [],
      "source": [
        "import os\n",
        "import torch\n",
        "import torch.nn as nn\n",
        "import torch.nn.functional as F\n",
        "import torchvision\n",
        "from torchvision import transforms\n",
        "from torchvision.utils import save_image\n",
        "\n",
        "import numpy as np\n",
        "import matplotlib.pyplot as plt\n",
        "from IPython.display import clear_output\n",
        "%matplotlib inline\n",
        "\n",
        "from sklearn.metrics.cluster import normalized_mutual_info_score"
      ]
    },
    {
      "cell_type": "code",
      "execution_count": null,
      "metadata": {
        "colab": {
          "base_uri": "https://localhost:8080/"
        },
        "id": "r7tfgdYCsV5d",
        "outputId": "ece6185b-588b-4b8a-b1f1-f1b210a54d3a"
      },
      "outputs": [],
      "source": [
        "N_CLASSES = 10\n",
        "IMAGE_SIZE = 28 * 28\n",
        "\n",
        "device = torch.device('cuda' if torch.cuda.is_available() else 'cpu')\n",
        "device"
      ]
    },
    {
      "cell_type": "code",
      "execution_count": null,
      "metadata": {
        "id": "onVZXPp6MtxP"
      },
      "outputs": [],
      "source": [
        "def show(img):\n",
        "    plt.imshow(np.transpose(img.numpy(), (1,2,0)), interpolation='nearest')\n",
        "\n",
        "def plot_reconstruction(model, n=24):\n",
        "    x,_ = next(iter(data_loader))\n",
        "    x = x[:n,:,:,:].to(device)\n",
        "    try:\n",
        "        out, _, _, log_p = model(x.view(-1, IMAGE_SIZE))\n",
        "    except:\n",
        "        try:\n",
        "            out, _, _ = model(x.view(-1, IMAGE_SIZE))\n",
        "        except:\n",
        "            out, _, _, _, _ = model(x.view(-1, IMAGE_SIZE))\n",
        "    x_concat = torch.cat([x.view(-1, 1, 28, 28), out.view(-1, 1, 28, 28)], dim=3)\n",
        "    out_grid = torchvision.utils.make_grid(x_concat).cpu().data\n",
        "    show(out_grid)\n",
        "\n",
        "@torch.no_grad()\n",
        "def plot_generation(model, n=24):\n",
        "    z = torch.randn(n, z_dim).to(device)\n",
        "    out = model.decode(z).view(-1, 1, 28, 28)\n",
        "    out_grid = torchvision.utils.make_grid(out).cpu()\n",
        "    show(out_grid)\n",
        "\n",
        "@torch.no_grad()\n",
        "def plot_conditional_generation(model, n=8, fix_number=None):\n",
        "    matrix = np.zeros((n, N_CLASSES))\n",
        "    matrix[:,0] = 1\n",
        "\n",
        "    if fix_number is None:\n",
        "        final = matrix[:]\n",
        "        for i in range(1, N_CLASSES):\n",
        "            final = np.vstack((final,np.roll(matrix,i)))\n",
        "        z = torch.randn(n, z_dim)\n",
        "        z = z.repeat(N_CLASSES,1).to(device)\n",
        "        y_onehot = torch.tensor(final).type(torch.FloatTensor).to(device)\n",
        "        out = model.decode(z,y_onehot).view(-1, 1, 28, 28)\n",
        "    else:\n",
        "        z = torch.randn(n, z_dim).to(device)\n",
        "        y_onehot = torch.tensor(np.roll(matrix, fix_number)).type(torch.FloatTensor).to(device)\n",
        "        out = model.decode(z,y_onehot).view(-1, 1, 28, 28)\n",
        "\n",
        "    out_grid = torchvision.utils.make_grid(out).cpu()\n",
        "    show(out_grid)\n",
        "\n",
        "@torch.no_grad()\n",
        "def live_plot(data_dict, x_key=None, figsize=(7,5), title=''):\n",
        "    clear_output(wait=True)\n",
        "    plt.figure(figsize=figsize)\n",
        "    for label, data in data_dict.items():\n",
        "        if label == x_key or len(data) == 0:\n",
        "            continue\n",
        "        x = data_dict[x_key] if x_key is not None else np.arange(len(data))\n",
        "        plt.plot(x, data, label=label, linewidth=1)\n",
        "    plt.title(title)\n",
        "    plt.grid(alpha=.5, which='both')\n",
        "    plt.xlabel('epoch' if x_key is None else x_key)\n",
        "    plt.legend(loc='center left') # the plot evolves to the right\n",
        "    plt.show();"
      ]
    },
    {
      "cell_type": "code",
      "execution_count": null,
      "metadata": {
        "id": "pgwvL5SvMtxm"
      },
      "outputs": [],
      "source": [
        "data_dir = './data'\n",
        "dataset = torchvision.datasets.MNIST(\n",
        "    root=data_dir,\n",
        "    train=True,\n",
        "    transform=transforms.ToTensor(),\n",
        "    download=True)\n",
        "\n",
        "data_loader = torch.utils.data.DataLoader(\n",
        "    dataset=dataset,\n",
        "    batch_size=128,\n",
        "    shuffle=True)\n",
        "\n",
        "test_loader = torch.utils.data.DataLoader(\n",
        "    torchvision.datasets.MNIST(data_dir, train=False, download=True, transform=transforms.ToTensor()),\n",
        "    batch_size=10, shuffle=False)"
      ]
    },
    {
      "cell_type": "markdown",
      "metadata": {
        "id": "UESJllvCMtxu"
      },
      "source": [
        "# Part A - Variational Autoencoders\n",
        "\n",
        "## A.1 - Autoencoding theory\n",
        "\n",
        "Consider a latent variable model with a data variable $x\\in \\mathcal{X}$ and a latent variable $z\\in \\mathcal{Z}$, $p(z,x) = p(z)p_\\theta(x|z)$. Given the data $x_1,\\dots, x_n$, we want to train the model by maximizing the marginal log-likelihood:\n",
        "\\begin{eqnarray*}\n",
        "\\mathcal{L} = \\mathbf{E}_{p_d(x)}\\left[\\log p_\\theta(x)\\right]=\\mathbf{E}_{p_d(x)}\\left[\\log \\int_{\\mathcal{Z}}p_{\\theta}(x|z)p(z)dz\\right],\n",
        "  \\end{eqnarray*}\n",
        "  where $p_d$ denotes the empirical distribution of $X$: $p_d(x) =\\frac{1}{n}\\sum_{i=1}^n \\delta_{x_i}(x)$.\n",
        "\n",
        " To avoid the (often) difficult computation of the integral above, the idea behind variational methods is to instead maximize a lower bound to the log-likelihood:\n",
        "  \\begin{eqnarray*}\n",
        "\\mathcal{L} \\geq L(p_\\theta(x|z),q(z|x)) =\\mathbf{E}_{p_d(x)}\\left[\\mathbf{E}_{q(z|x)}\\left[\\log p_\\theta(x|z)\\right]-\\mathrm{KL}\\left( q(z|x)||p(z)\\right)\\right].\n",
        "  \\end{eqnarray*}\n",
        "  Any choice of $q(z|x)$ gives a valid lower bound. Variational autoencoders replace the variational posterior $q(z|x)$ by an inference network $q_{\\phi}(z|x)$ that is trained together with $p_{\\theta}(x|z)$ to jointly maximize $L(p_\\theta,q_\\phi)$.\n",
        "  \n",
        "The variational posterior $q_{\\phi}(z|x)$ is also called the **encoder** and the generative model $p_{\\theta}(x|z)$, the **decoder** or generator.\n",
        "\n",
        "The first term $\\mathbf{E}_{q(z|x)}\\left[\\log p_\\theta(x|z)\\right]$ is the negative reconstruction error. Indeed under a gaussian assumption i.e. $p_{\\theta}(x|z) = \\mathcal{N}(\\mu_{\\theta}(z), I)$ the term $\\log p_\\theta(x|z)$ reduces to $\\propto \\|x-\\mu_\\theta(z)\\|^2$, which is often used in practice. The term $\\mathrm{KL}\\left( q(z|x)||p(z)\\right)$ can be seen as a regularization term, where the variational posterior $q_\\phi(z|x)$ should be matched to the prior $p(z)= \\mathcal{N}(0, I)$.\n",
        "\n",
        "Variational Autoencoders were introduced by [Kingma and Welling (2013)](https://arxiv.org/abs/1312.6114), see also [(Doersch, 2016)](https://arxiv.org/abs/1606.05908) for a tutorial.\n",
        "\n",
        "## A.2 - A simple autoencoder for MNIST\n",
        "\n",
        "Implement the following autoencoder.\n",
        "\n",
        "\n",
        "![A variational autoencoder.](https://github.com/dataflowr/notebooks/blob/master/HW3/vae.png?raw=true)\n",
        "\n",
        "Add a ReLU after FC1 and FC4\n",
        "\n",
        "\n",
        "$\\mu$ and $\\log \\sigma^2$ are used for reparametrization with\n",
        "$z= \\mu + \\sigma \\odot \\epsilon$, where $\\epsilon \\sim \\mathcal{N}(0,1)$\n",
        "\n",
        "> Left is without the “reparameterization trick”, and right is with it. Red shows sampling operations that are non-differentiable. Blue shows loss layers. The feedforward behavior of these networks is identical, but backpropagation can be applied only to the right network.\n",
        "\n"
      ]
    },
    {
      "cell_type": "code",
      "execution_count": null,
      "metadata": {
        "id": "TWtQVnsAMtxw"
      },
      "outputs": [],
      "source": [
        "# VAE model\n",
        "class VAE(nn.Module):\n",
        "    def __init__(self, h_dim, z_dim):\n",
        "        super(VAE, self).__init__()\n",
        "        self.fc1 = nn.Linear(IMAGE_SIZE, h_dim)\n",
        "        self.fc_mu = nn.Linear(h_dim, z_dim)\n",
        "        self.fc_log_var = nn.Linear(h_dim, z_dim)\n",
        "\n",
        "        self.fc3 = nn.Linear(z_dim, h_dim)\n",
        "        self.fc4 = nn.Linear(h_dim, IMAGE_SIZE)\n",
        "\n",
        "    def encode(self, x):\n",
        "        h = F.relu(self.fc1(x))\n",
        "        mu = self.fc_mu(h)\n",
        "        log_var = self.fc_log_var(h)\n",
        "        return mu, log_var\n",
        "\n",
        "    def reparameterize(self, mu, log_var):\n",
        "        std = torch.exp(0.5 * log_var)\n",
        "        eps = torch.randn_like(std)\n",
        "        return mu + eps * std\n",
        "\n",
        "    def decode(self, z):\n",
        "        h = F.relu(self.fc3(z))\n",
        "        return torch.sigmoid(self.fc4(h))\n",
        "\n",
        "    def forward(self, x):\n",
        "        mu, log_var = self.encode(x)\n",
        "        z = self.reparameterize(mu, log_var)\n",
        "        x_rec = self.decode(z)\n",
        "        return x_rec, mu, log_var, z\n",
        "\n",
        "# Hyper-parameters\n",
        "h_dim = 400\n",
        "z_dim = 20\n",
        "num_epochs = 15\n",
        "learning_rate = 1e-3\n",
        "\n",
        "model = VAE(h_dim=h_dim, z_dim=z_dim).to(device)\n",
        "optimizer = torch.optim.Adam(model.parameters(), lr=learning_rate)"
      ]
    },
    {
      "cell_type": "markdown",
      "metadata": {
        "id": "2klHMA7TMtx2"
      },
      "source": [
        "Here for the loss, instead of MSE for the reconstruction loss, we take Binary Cross-Entropy (you should sum the loss over all pixels and samples, not average!)\n",
        "\n",
        "The KL divergence can be computed as:\n",
        "\n",
        "$$-\\frac{1}{2} \\sum_{j=1}^J\\left(1+\\log(\\sigma_j^2) - \\mu_j^2 -\\sigma_j^2\\right)$$\n",
        "\n",
        "see Appendix B in VAE paper or (Doersch, 2016, https://arxiv.org/abs/1606.05908)"
      ]
    },
    {
      "cell_type": "code",
      "execution_count": null,
      "metadata": {
        "colab": {
          "base_uri": "https://localhost:8080/",
          "height": 487
        },
        "id": "_hs3Wnd8Mtx4",
        "outputId": "480166ac-3fb1-4add-efca-ac222867fed6"
      },
      "outputs": [],
      "source": [
        "verbose = False\n",
        "data_dict = { \"epoch\": [], \"total loss\": [], \"reconstruction\": [], \"kl_div\": [] }\n",
        "\n",
        "for epoch in range(num_epochs):\n",
        "    for i, (x, _) in enumerate(data_loader):\n",
        "        # Forward pass\n",
        "        x = x.to(device).view(-1, IMAGE_SIZE)\n",
        "        x_reconst, mu, log_var, z = model(x)\n",
        "\n",
        "        # Compute reconstruction loss and kl divergence\n",
        "        reconst_loss = F.binary_cross_entropy(x_reconst, x, reduction='sum')\n",
        "        kl_div = -0.5 * torch.sum(1 + log_var - mu.pow(2) - log_var.exp())\n",
        "        loss = reconst_loss + kl_div\n",
        "\n",
        "        # Backprop and optimize\n",
        "        optimizer.zero_grad()\n",
        "        loss.backward()\n",
        "        optimizer.step()\n",
        "\n",
        "        # Bookkeeping\n",
        "        data_dict[\"total loss\"].append(loss.item() / len(x))\n",
        "        data_dict[\"reconstruction\"].append(reconst_loss.item() / len(x))\n",
        "        data_dict[\"kl_div\"].append(kl_div.item() / len(x))\n",
        "        data_dict[\"epoch\"].append(epoch + float(1+i) / len(data_loader))\n",
        "\n",
        "\n",
        "        if (i+1) % 100 == 0:\n",
        "            if verbose:\n",
        "                print (\"Epoch[{}/{}], Step [{}/{}], Reconst Loss: {:.4f}, KL Div: {:.4f}\"\n",
        "                      .format(epoch+1, num_epochs, i+1, len(data_loader),\n",
        "                              reconst_loss.item()/len(x), kl_div.item()/len(x)))\n",
        "            else:\n",
        "                live_plot(data_dict, x_key=\"epoch\", title=\"VAE\")\n",
        "\n",
        "live_plot(data_dict, x_key=\"epoch\", title=\"VAE\")"
      ]
    },
    {
      "cell_type": "markdown",
      "metadata": {
        "id": "XinKgE7AMtx-"
      },
      "source": [
        "## A.3 - Evaluating results\n",
        "\n",
        "Let us see how our network reconstructs our last batch. We display pairs of original digits and reconstructed version side by side.\n",
        "\n",
        "Observe how most reconstructed digits are essentially identical to the original version.\n",
        "This means that the identity mapping has been learned well.\n",
        "You should still see some blurry digits very different from the original (resample a couple times if needed)."
      ]
    },
    {
      "cell_type": "code",
      "execution_count": null,
      "metadata": {
        "colab": {
          "base_uri": "https://localhost:8080/",
          "height": 163
        },
        "id": "YLTFvi0SMtyA",
        "outputId": "81f7f1b3-2995-422b-95d2-546b9f292f9a"
      },
      "outputs": [],
      "source": [
        "plot_reconstruction(model)"
      ]
    },
    {
      "cell_type": "markdown",
      "metadata": {
        "id": "ZC7nauVyMtyF"
      },
      "source": [
        "Let's see now how our network generates new samples."
      ]
    },
    {
      "cell_type": "code",
      "execution_count": null,
      "metadata": {
        "colab": {
          "base_uri": "https://localhost:8080/",
          "height": 253
        },
        "id": "ehuLHz4NMtyH",
        "outputId": "c1115d4e-8ee5-41e4-d3f9-3c9d22149195"
      },
      "outputs": [],
      "source": [
        "plot_generation(model)"
      ]
    },
    {
      "cell_type": "markdown",
      "metadata": {
        "id": "Hddb3q43MtyN"
      },
      "source": [
        "Not great, but we did not train our network for long... That being said, we have no control of the generated digits. In the rest of this notebook, we explore ways to generates zeroes, ones, twos and so on.\n",
        "\n",
        "\n",
        "As a by-product, we show how our VAE will allow us to do clustering thanks to the Gumbel VAE described below. But before that, we start by cheating a little bit..."
      ]
    },
    {
      "cell_type": "markdown",
      "metadata": {
        "id": "tOj5--9VsV5t"
      },
      "source": [
        "# Part B - Cheating with the \"conditional\" VAE\n",
        "\n",
        "We would like to generate samples of a given number. We have so far a model for images $X \\in [0,1]^{P}$ with $P = 784$ pixels, generated as $X = f_\\theta(Z)$ where $Z \\sim \\mathcal{N}(0,I)$ is a latent with normal distribution. In other to sample a specific digit, we will use a model\n",
        "$g_\\theta : \\mathbb{R}^z \\times \\{0,\\ldots,9\\} \\to [0,1]^P$ and sample images according to $X = g_\\theta(Z, Y)$\n",
        "where $Y \\in \\{0, \\ldots, 9\\}$ is a class label.\n",
        "\n",
        "In the context of variational autoencoding, this is considered cheating,\n",
        "because it uses external information (the class label) instead of learning the modes from the data.\n",
        "\n",
        "To build the function $g$, we will simply concatenate the latent representation with\n",
        "a one-hot encoding of the class. This way, we can use the above architecture with very little modification.\n",
        "\n",
        "First, write a function transforming a label into its onehot encoding. This function will be used in the training loop (not in the architecture of the neural network!)."
      ]
    },
    {
      "cell_type": "code",
      "execution_count": null,
      "metadata": {
        "id": "5l5zV2vfsV5t"
      },
      "outputs": [],
      "source": [
        "def l_2_onehot(labels, nb_digits=N_CLASSES):\n",
        "    # take labels (from the dataloader) and return labels onehot-encoded\n",
        "    ### your code here ###\n",
        "    batch_size = labels.size(0)\n",
        "    onehot = torch.zeros(batch_size, nb_digits).to(device)\n",
        "    #onehot.scatter_(1, labels.view(-1, 1), 1)\n",
        "    onehot.scatter_(1, labels.unsqueeze(1), 1)\n",
        "    return onehot"
      ]
    },
    {
      "cell_type": "markdown",
      "metadata": {
        "id": "Y5Ean5qFsV5u"
      },
      "source": [
        "You can test it on a batch."
      ]
    },
    {
      "cell_type": "code",
      "execution_count": null,
      "metadata": {
        "id": "cNL--q4SsV5u"
      },
      "outputs": [],
      "source": [
        "(x,labels) = next(iter(data_loader))"
      ]
    },
    {
      "cell_type": "code",
      "execution_count": null,
      "metadata": {
        "colab": {
          "base_uri": "https://localhost:8080/"
        },
        "id": "AirJGVqwsV5v",
        "outputId": "310ee4b8-caa3-4bee-b903-70bfc4b1372f"
      },
      "outputs": [],
      "source": [
        "labels"
      ]
    },
    {
      "cell_type": "code",
      "execution_count": null,
      "metadata": {
        "colab": {
          "base_uri": "https://localhost:8080/"
        },
        "id": "b8_vaVGzsV5w",
        "outputId": "109f7ac3-b837-44b8-d716-25924707e592"
      },
      "outputs": [],
      "source": [
        "assert l_2_onehot(labels).shape == (*labels.shape, N_CLASSES)\n",
        "l_2_onehot(labels)"
      ]
    },
    {
      "cell_type": "markdown",
      "metadata": {
        "id": "V4UNjRzJsV5w"
      },
      "source": [
        "Now modify the architecture of the VAE where the decoder takes as input the random code concatenated with the onehot encoding of the label, you can use `torch.cat`."
      ]
    },
    {
      "cell_type": "code",
      "execution_count": null,
      "metadata": {
        "id": "ioSc2-WCsV5x"
      },
      "outputs": [],
      "source": [
        "class VAE_Cond(nn.Module):\n",
        "    def __init__(self, h_dim, z_dim):\n",
        "        super(VAE_Cond, self).__init__()\n",
        "        ### your code here ###\n",
        "        self.fc1 = nn.Linear(IMAGE_SIZE, h_dim)\n",
        "        self.fc_mu = nn.Linear(h_dim, z_dim)\n",
        "        self.fc_log_var = nn.Linear(h_dim, z_dim)\n",
        "        self.fc3 = nn.Linear(z_dim + N_CLASSES, h_dim)\n",
        "        self.fc4 = nn.Linear(h_dim, IMAGE_SIZE)\n",
        "\n",
        "    def encode(self, x):\n",
        "        h = F.relu(self.fc1(x))\n",
        "        mu = self.fc_mu(h)\n",
        "        log_var = self.fc_log_var(h)\n",
        "        return mu, log_var\n",
        "\n",
        "    def reparameterize(self, mu, log_var):\n",
        "        std = torch.exp(0.5 * log_var)\n",
        "        eps = torch.randn_like(std)\n",
        "        return mu + eps * std\n",
        "\n",
        "    def decode(self, z, l_onehot):\n",
        "        ### your code here ###\n",
        "        z_cond = torch.cat([z, l_onehot], dim=1)\n",
        "        h = F.relu(self.fc3(z_cond))\n",
        "        return torch.sigmoid(self.fc4(h))\n",
        "\n",
        "    def forward(self, x, l_onehot):\n",
        "        ### your code here ###\n",
        "        mu, log_var = self.encode(x)\n",
        "        z = self.reparameterize(mu, log_var)\n",
        "        x_reconstructed = self.decode(z, l_onehot)\n",
        "        return x_reconstructed, mu, log_var"
      ]
    },
    {
      "cell_type": "markdown",
      "metadata": {
        "id": "8aeUE3qVsV5x"
      },
      "source": [
        "Test your new model on a batch:"
      ]
    },
    {
      "cell_type": "code",
      "execution_count": null,
      "metadata": {
        "colab": {
          "base_uri": "https://localhost:8080/"
        },
        "id": "Tac5aWqssV5y",
        "outputId": "d84eac0c-e700-4087-d329-7d89cd570e59"
      },
      "outputs": [],
      "source": [
        "model_C = VAE_Cond(h_dim=h_dim, z_dim=z_dim).to(device)\n",
        "x = x.to(device).view(-1, IMAGE_SIZE)\n",
        "l_onehot = l_2_onehot(labels).to(device)\n",
        "x_reconst, mu, log_var = model_C(x, l_onehot)\n",
        "assert x_reconst.shape == x.shape\n",
        "assert mu.shape == log_var.shape and mu.shape == (x.shape[0], z_dim)\n",
        "x_reconst.shape, mu.shape, log_var.shape"
      ]
    },
    {
      "cell_type": "markdown",
      "metadata": {
        "id": "0-8d19dcsV5y"
      },
      "source": [
        "Now you can modify the training loop of your network.\n",
        "\n",
        "Also, scale the KL term in your loss with $\\beta$ to strengthen the regularization as explained in the [$\\beta$-VAE paper](https://openreview.net/forum?id=Sy2fzU9gl) see formula (4) in the paper."
      ]
    },
    {
      "cell_type": "code",
      "execution_count": null,
      "metadata": {
        "id": "IClystPvsV5z"
      },
      "outputs": [],
      "source": [
        "def train_C(model, data_loader=data_loader,num_epochs=num_epochs, beta=10., verbose=True):\n",
        "    nmi_scores = []\n",
        "    model.train(True)\n",
        "    data_dict = { \"epoch\": [], \"total loss\": [], \"reconstruction\": [], \"kl_div\": [] }\n",
        "    title = \"Conditional VAE\"\n",
        "\n",
        "    for epoch in range(num_epochs):\n",
        "        for i, (x, labels) in enumerate(data_loader):\n",
        "            x = x.to(device).view(-1, IMAGE_SIZE)\n",
        "            l_onehot = l_2_onehot(labels).to(device)\n",
        "\n",
        "            ### your forward code here ###\n",
        "            x_reconst, mu, log_var = model(x, l_onehot)\n",
        "\n",
        "            reconst_loss = F.binary_cross_entropy(x_reconst, x, reduction='sum')\n",
        "            kl_div = -0.5 * torch.sum(1 + log_var - mu.pow(2) - log_var.exp())\n",
        "            loss = reconst_loss + beta * kl_div\n",
        "\n",
        "            # Backprop and optimize\n",
        "            optimizer.zero_grad()\n",
        "            loss.backward()\n",
        "            optimizer.step()\n",
        "\n",
        "            # Bookkeeping\n",
        "            data_dict[\"total loss\"].append(loss.item() / len(x))\n",
        "            data_dict[\"reconstruction\"].append(reconst_loss.item() / len(x))\n",
        "            data_dict[\"kl_div\"].append(kl_div.item() / len(x))\n",
        "            data_dict[\"epoch\"].append(epoch + float(1+i) / len(data_loader))\n",
        "\n",
        "\n",
        "            if (i+1) % 100 == 0:\n",
        "                if verbose:\n",
        "                    print(\"Epoch[{}/{}], Step [{}/{}], Reconst Loss: {:.4f}, KL Div: {:.4f}\"\n",
        "                           .format(epoch+1, num_epochs, i+1, len(data_loader),\n",
        "                                   reconst_loss.item()/len(x),\n",
        "                                   kl_div.item()/len(x)))\n",
        "                else:\n",
        "                    live_plot(data_dict, x_key=\"epoch\", title=title)\n",
        "\n",
        "    live_plot(data_dict, x_key=\"epoch\", title=title)"
      ]
    },
    {
      "cell_type": "code",
      "execution_count": null,
      "metadata": {
        "id": "Eq5rzx-EsV5z"
      },
      "outputs": [],
      "source": [
        "model_C = VAE_Cond(h_dim=h_dim, z_dim=z_dim).to(device)\n",
        "optimizer = torch.optim.Adam(model_C.parameters(), lr=learning_rate)"
      ]
    },
    {
      "cell_type": "code",
      "execution_count": null,
      "metadata": {
        "colab": {
          "base_uri": "https://localhost:8080/",
          "height": 487
        },
        "id": "2eISU2zTsV50",
        "outputId": "5f127988-75ee-4151-efb8-6460885ded19"
      },
      "outputs": [],
      "source": [
        "train_C(model_C, num_epochs=15, verbose=False)"
      ]
    },
    {
      "cell_type": "code",
      "execution_count": null,
      "metadata": {
        "colab": {
          "base_uri": "https://localhost:8080/",
          "height": 435
        },
        "id": "5jGgt2UhsV50",
        "outputId": "7c4b9bcf-74d9-4613-be73-06ea9594b3e6"
      },
      "outputs": [],
      "source": [
        "plot_conditional_generation(model_C)"
      ]
    },
    {
      "cell_type": "markdown",
      "metadata": {
        "id": "wZxXSDH9sV51"
      },
      "source": [
        "Here you should get nice results. Now we will avoid the use of the labels..."
      ]
    },
    {
      "cell_type": "markdown",
      "metadata": {
        "id": "ePpthCZXMtyS"
      },
      "source": [
        "# Part C - No cheating with Gumbel VAE\n",
        "\n",
        "Implement a VAE where you add a categorical variable $c\\in \\{0,\\dots 9\\}$ so that your latent variable model is $p(c,z,x) = p(c)p(z)p_{\\theta}(x|c,z)$ and your variational posterior is $q_{\\phi}(c|x)q_{\\phi}(z|x)$ as described in this NeurIPS paper: [(Dupont, 2018)](https://arxiv.org/abs/1804.00104). Try to make only minimal modifications to previous architecture.\n",
        "\n",
        "\n",
        "The idea is to incorporate a categorical variable in your latent space, without cheating by forcing it to take the value of the image's label. You hope that this categorical variable will encode the class of the digit, so that your network can use it for a better reconstruction, but can't force it. Moreover, if things work as planned, you will then be able to generate digits conditionally to the class, i.e. you can choose the class thanks to the latent categorical variable $c$ and then generate digits from this class.\n",
        "\n",
        "## C.1 - Gumbel trick for discrete latent variables\n",
        "\n",
        "As noticed above, in order to sample random variables while still being able to use backpropagation, we need to use the reparameterization trick which is easy for Gaussian random variables. For categorical random variables, the reparameterization trick is explained in [(Jang et al., 2016)](https://arxiv.org/abs/1611.01144). This is implemented in PyTorch thanks to [F.gumbel_softmax](https://pytorch.org/docs/stable/generated/torch.nn.functional.gumbel_softmax.html).\n",
        "\n",
        "Note: there is an instability in the PyTorch `F.gumbel_softmax` implementation. We provide instead `gumbel_softmax` which takes the same arguments and ensures that the output is not NaN. If you encounter nans in your training or errors in the binary cross-entropy, make sure you are using the stabilized version.\n",
        "\n",
        "Note: `gumbel_softmax` expects log-probabilities as input. See https://pytorch.org/docs/stable/generated/torch.nn.LogSoftmax.html"
      ]
    },
    {
      "cell_type": "code",
      "execution_count": null,
      "metadata": {
        "id": "sBIKV-68MtyW"
      },
      "outputs": [],
      "source": [
        "def gumbel_softmax(logits, tau=1, hard=False, eps=1e-10, dim=-1):\n",
        "    # type: (Tensor, float, bool, float, int) -> Tensor\n",
        "    r\"\"\"\n",
        "    This is a stabilized version of PyTorch's `F.gumbel_softmax`\n",
        "    function, which samples zeros from the exponential and the\n",
        "    nans when taking the logarithm.\n",
        "    \"\"\"\n",
        "\n",
        "    def stabilized_gumbel():\n",
        "        gumbels = - torch.empty_like(logits).exponential_().log()\n",
        "        reject = torch.isnan(gumbels).sum() or torch.isinf(gumbels).sum()\n",
        "        return stabilized_gumbel() if reject else gumbels\n",
        "\n",
        "    gumbels = stabilized_gumbel()  # ~Gumbel(0,1)\n",
        "    gumbels = (logits + gumbels) / tau  # ~Gumbel(logits,tau)\n",
        "    y_soft = gumbels.softmax(dim)\n",
        "\n",
        "    if hard:\n",
        "        # Straight through.\n",
        "        index = y_soft.max(dim, keepdim=True)[1]\n",
        "        y_hard = torch.zeros_like(logits).scatter_(dim, index, 1.0)\n",
        "        ret = y_hard - y_soft.detach() + y_soft\n",
        "    else:\n",
        "        # Reparametrization trick.\n",
        "        ret = y_soft\n",
        "    return ret"
      ]
    },
    {
      "cell_type": "code",
      "execution_count": null,
      "metadata": {
        "id": "eOErmhS9RunM"
      },
      "outputs": [],
      "source": [
        "class VAE_Gumbel(nn.Module):\n",
        "    def __init__(self, h_dim, z_dim):\n",
        "        super(VAE_Gumbel, self).__init__()\n",
        "        ### your code here ###\n",
        "        self.fc1 = nn.Linear(IMAGE_SIZE, h_dim)\n",
        "        self.fc_mu = nn.Linear(h_dim, z_dim)\n",
        "        self.fc_log_var = nn.Linear(h_dim, z_dim)\n",
        "        self.fc_c = nn.Linear(h_dim, N_CLASSES)\n",
        "\n",
        "        self.fc3 = nn.Linear(z_dim + N_CLASSES, h_dim)\n",
        "        self.fc4 = nn.Linear(h_dim, IMAGE_SIZE)\n",
        "\n",
        "    def encode(self, x):\n",
        "        ### your code here ###\n",
        "        h = F.relu(self.fc1(x))\n",
        "        mu = self.fc_mu(h)\n",
        "        log_var = self.fc_log_var(h)\n",
        "        logits_c = self.fc_c(h)\n",
        "        return mu, log_var, logits_c\n",
        "\n",
        "    def reparameterize(self, mu, log_var):\n",
        "        std = torch.exp(0.5 * log_var)\n",
        "        eps = torch.randn_like(std)\n",
        "        return mu + eps * std\n",
        "\n",
        "    def decode(self, z, y_onehot):\n",
        "        ### your code here ###\n",
        "        z_cond = torch.cat([z, y_onehot], dim=1)\n",
        "        h = F.relu(self.fc3(z_cond))\n",
        "        return torch.sigmoid(self.fc4(h))\n",
        "\n",
        "    def forward(self, x):\n",
        "        ### your code here ###\n",
        "        mu, log_var, logits_c = self.encode(x)\n",
        "        z = self.reparameterize(mu, log_var)\n",
        "        c = gumbel_softmax(logits_c)\n",
        "        x_reconstructed = self.decode(z, c)\n",
        "        return x_reconstructed, mu, log_var, c, logits_c"
      ]
    },
    {
      "cell_type": "code",
      "execution_count": null,
      "metadata": {
        "id": "J2gLw45WsV52"
      },
      "outputs": [],
      "source": [
        "model_G = VAE_Gumbel(h_dim=h_dim, z_dim=z_dim).to(device)\n",
        "optimizer = torch.optim.Adam(model_G.parameters(), lr=learning_rate)"
      ]
    },
    {
      "cell_type": "markdown",
      "metadata": {
        "id": "KykEyDKDMtyc"
      },
      "source": [
        "You need to modify the loss to take into account the categorical random variable with an uniform prior on $\\{0,\\dots 9\\}$, see Appendix A.2 in [(Dupont, 2018)](https://arxiv.org/abs/1804.00104).\n",
        "\n",
        "Note this can be implemented by taking the entropy of $c$"
      ]
    },
    {
      "cell_type": "code",
      "execution_count": null,
      "metadata": {
        "id": "JBV8OdB9Mtyg"
      },
      "outputs": [],
      "source": [
        "def train_G(model, data_loader=data_loader,num_epochs=num_epochs, beta = 1., verbose=True):\n",
        "    nmi_scores = []\n",
        "    model.train(True)\n",
        "    data_dict = { \"epoch\": [], \"total loss\": [], \"reconstruction\": [], \"kl_div\": [], \"entropy\": [] }\n",
        "    title = \"Gumbel VAE\"\n",
        "\n",
        "    for epoch in range(num_epochs):\n",
        "        all_labels = []\n",
        "        all_labels_est = []\n",
        "        for i, (x, labels) in enumerate(data_loader):\n",
        "            x = x.to(device).view(-1, IMAGE_SIZE)\n",
        "            ### your forward code here ###\n",
        "            x_reconst, mu, log_var, c, logits_c = model(x)\n",
        "\n",
        "            reconst_loss = F.binary_cross_entropy(x_reconst, x, reduction='sum')\n",
        "            kl_div = -0.5 * torch.sum(1 + log_var - mu.pow(2) - log_var.exp())\n",
        "            entropy = -torch.sum(c * torch.log(c + 1e-10))\n",
        "            loss = reconst_loss + beta * kl_div - entropy\n",
        "\n",
        "            # Backprop and optimize\n",
        "            optimizer.zero_grad()\n",
        "            loss.backward()\n",
        "            optimizer.step()\n",
        "\n",
        "            # Bookkeeping\n",
        "            data_dict[\"total loss\"].append(loss.item() / len(x))\n",
        "            ### your bookkeeping code here ###\n",
        "            data_dict[\"epoch\"].append(epoch + float(1+i) / len(data_loader))\n",
        "            data_dict[\"reconstruction\"].append(reconst_loss.item() / len(x))\n",
        "            data_dict[\"kl_div\"].append(kl_div.item() / len(x))\n",
        "\n",
        "            if (i+1) % 100 == 0:\n",
        "                if verbose:\n",
        "                    print (\"Epoch[{}/{}], Step [{}/{}], Reconst Loss: {:.4f}, KL Div: {:.4f}, Entropy: {:.4f}\"\n",
        "                           .format(epoch+1, num_epochs, i+1, len(data_loader),\n",
        "                                   reconst_loss.item()/len(x),\n",
        "                                   kl_div.item()/len(x),\n",
        "                                   entropy.item()/len(x)))\n",
        "                else:\n",
        "                    live_plot(data_dict, x_key=\"epoch\", title=title)\n",
        "\n",
        "    live_plot(data_dict, x_key=\"epoch\", title=title)"
      ]
    },
    {
      "cell_type": "code",
      "execution_count": null,
      "metadata": {
        "colab": {
          "base_uri": "https://localhost:8080/",
          "height": 487
        },
        "id": "KL5mR20KMtyp",
        "outputId": "020671e8-76dc-4eb1-ff38-357f4b0bd131"
      },
      "outputs": [],
      "source": [
        "train_G(model_G, num_epochs=20, verbose=False)"
      ]
    },
    {
      "cell_type": "code",
      "execution_count": null,
      "metadata": {
        "colab": {
          "base_uri": "https://localhost:8080/",
          "height": 163
        },
        "id": "NyZCzWt5Mtyw",
        "outputId": "9c7905df-f750-414d-fcdb-08512d9831bc"
      },
      "outputs": [],
      "source": [
        "plot_reconstruction(model_G)"
      ]
    },
    {
      "cell_type": "markdown",
      "metadata": {
        "id": "9nMSU21iMty7"
      },
      "source": [
        "The reconstruction is good, but we care more about the generation. For each category, we generate 8 samples thanks to the `plot_conditional_generation()` function.\n",
        "Consistently with the previous use, each row is supposed to consist of the same digit sampled 8 times, and each row should correspond to a distinct digit."
      ]
    },
    {
      "cell_type": "code",
      "execution_count": null,
      "metadata": {
        "colab": {
          "base_uri": "https://localhost:8080/",
          "height": 435
        },
        "id": "XWb_mYgsMty9",
        "outputId": "3a787310-35aa-4f7a-9395-a486e5cb0441"
      },
      "outputs": [],
      "source": [
        "plot_conditional_generation(model_G)"
      ]
    },
    {
      "cell_type": "markdown",
      "metadata": {
        "id": "PilQVNR3MtzL"
      },
      "source": [
        "It does not look like our original idea is working...\n",
        "\n",
        "What is happening is that our network is not using the categorical variable at all (all \"digits\" look the same, the variation comes from the re-sampling of Z). We can track the [normalized mutual information](https://en.wikipedia.org/wiki/Mutual_information#Normalized_variants) (see [this method in scikit-learn](http://scikit-learn.org/stable/modules/generated/sklearn.metrics.normalized_mutual_info_score.html)) between the true labels and the labels predicted by our network (just by taking the category with maximal probability).\n",
        "\n",
        "Change your training loop to return the normalized mutual information (NMI) for each epoch. Plot the curve to check that the NMI is actually decreasing."
      ]
    },
    {
      "cell_type": "code",
      "execution_count": null,
      "metadata": {
        "id": "OfkRn0Y2RFUd"
      },
      "outputs": [],
      "source": [
        "def train_G_NMI(model, data_loader=data_loader,num_epochs=num_epochs, beta = 1., verbose=True):\n",
        "    nmi_scores = []\n",
        "    model.train(True)\n",
        "    data_dict = { \"epoch\": [], \"total loss\": [], \"reconstruction\": [], \"kl_div\": [], \"entropy\": [] }\n",
        "    title = \"Gumbel VAE NMI\"\n",
        "\n",
        "    for epoch in range(num_epochs):\n",
        "        all_labels = []\n",
        "        all_labels_est = []\n",
        "        for i, (x, labels) in enumerate(data_loader):\n",
        "            x = x.to(device).view(-1, IMAGE_SIZE)\n",
        "            ### your forward code here ###\n",
        "            x_reconst, mu, log_var, c, logits_c = model(x)\n",
        "\n",
        "            reconst_loss = F.binary_cross_entropy(x_reconst, x, reduction='sum')\n",
        "            kl_div = -0.5 * torch.sum(1 + log_var - mu.pow(2) - log_var.exp())\n",
        "            probs = F.softmax(logits_c, dim=1)\n",
        "            entropy = -torch.sum(probs * torch.log(probs + 1e-10))\n",
        "            loss = reconst_loss + beta * kl_div - entropy\n",
        "\n",
        "            # Backprop and optimize\n",
        "            optimizer.zero_grad()\n",
        "            loss.backward()\n",
        "            optimizer.step()\n",
        "\n",
        "            # Bookkeeping\n",
        "            data_dict[\"total loss\"].append(loss.item() / len(x))\n",
        "            ### your bookkeeping code here ###\n",
        "            data_dict[\"reconstruction\"].append(reconst_loss.item() / len(x))\n",
        "            data_dict[\"kl_div\"].append(kl_div.item() / len(x))\n",
        "            data_dict[\"entropy\"].append(entropy.item() / len(x))\n",
        "            data_dict[\"epoch\"].append(epoch + float(1+i) / len(data_loader))\n",
        "            #all_labels.append(labels.numpy())\n",
        "            #_, predicted_labels = torch.max(c, 1)\n",
        "            #all_labels_est.append(predicted_labels.cpu().numpy())\n",
        "            all_labels.append(labels.cpu().numpy())\n",
        "            all_labels_est.append(probs.argmax(dim=1).cpu().numpy())\n",
        "\n",
        "            if (i+1) % 100 == 0:\n",
        "                if verbose:\n",
        "                    print (\"Epoch[{}/{}], Step [{}/{}], Reconst Loss: {:.4f}, KL Div: {:.4f}, Entropy: {:.4f}\"\n",
        "                           .format(epoch+1, num_epochs, i+1, len(data_loader),\n",
        "                                   reconst_loss.item()/len(x),\n",
        "                                   kl_div.item()/len(x),\n",
        "                                   entropy.item()/len(x)))\n",
        "                else:\n",
        "                    live_plot(data_dict, x_key=\"epoch\", title=title)\n",
        "        true_labels = np.concatenate(all_labels)\n",
        "        pred_labels = np.concatenate(all_labels_est)\n",
        "        nmi = normalized_mutual_info_score(true_labels, pred_labels)\n",
        "        nmi_scores.append(nmi)\n",
        "        #data_dict[\"nmi\"].append(nmi)\n",
        "        print(f\"Epoch {epoch+1}, NMI: {nmi:.4f}\")\n",
        "\n",
        "    live_plot(data_dict, x_key=\"epoch\", title=title)\n",
        "    return nmi_scores"
      ]
    },
    {
      "cell_type": "code",
      "execution_count": null,
      "metadata": {
        "id": "PFCq3k8UWRlC"
      },
      "outputs": [],
      "source": [
        "model_G = VAE_Gumbel(h_dim=h_dim, z_dim=z_dim).to(device)\n",
        "optimizer = torch.optim.Adam(model_G.parameters(), lr=learning_rate)"
      ]
    },
    {
      "cell_type": "code",
      "execution_count": null,
      "metadata": {
        "colab": {
          "base_uri": "https://localhost:8080/",
          "height": 942
        },
        "id": "3qNKWg35A-Hn",
        "outputId": "591c63cd-eb0b-4ec4-d0dc-34031c2f0763"
      },
      "outputs": [],
      "source": [
        "nmi = train_G_NMI(model_G, num_epochs=20, verbose=False)\n",
        "\n",
        "plt.plot(nmi)\n",
        "plt.xlabel(\"Epoch\")\n",
        "plt.ylabel(\"NMI\")\n",
        "plt.title(\"NMI Curve\")\n",
        "plt.grid(alpha=0.5, which='both')\n",
        "plt.show()"
      ]
    },
    {
      "cell_type": "markdown",
      "metadata": {
        "id": "GV8yl33sMtzN"
      },
      "source": [
        "## C.2 - Robust disentangling with controlled capacity increase\n",
        "\n",
        "This problem is explained in [(Burgess et al., 2018)](https://arxiv.org/abs/1804.03599) and a solution is proposed in Section 5.\n",
        "\n",
        "In order to force our network to use the categorical variable, we will change the loss according to [(Dupont, 2018)](https://arxiv.org/abs/1804.00104), Section 3 Equation (7).\n",
        "\n",
        "Implement this change in the training loop and plot the new NMI curve. Increase the $C_z$ and $C_c$ constants by a constant value every epoch until it reaches the value passed in argument.\n",
        "For $\\beta = 20, C_z=100, C_c=100$, you should see that NMI increases."
      ]
    },
    {
      "cell_type": "code",
      "execution_count": null,
      "metadata": {
        "id": "TxVJLo86MtzO"
      },
      "outputs": [],
      "source": [
        "model_G = VAE_Gumbel(h_dim=h_dim, z_dim=z_dim).to(device)\n",
        "optimizer = torch.optim.Adam(model_G.parameters(), lr=learning_rate)"
      ]
    },
    {
      "cell_type": "code",
      "execution_count": null,
      "metadata": {
        "id": "WBNCCKCYRFUe"
      },
      "outputs": [],
      "source": [
        "def train_G_modified_loss(model, data_loader=data_loader,num_epochs=num_epochs, beta=1. , C_z_fin=0, C_c_fin=0, verbose=True):\n",
        "    ### your code here ###\n",
        "    nmi_scores = []\n",
        "    model.train(True)\n",
        "    data_dict = {\"epoch\": [], \"total loss\": [], \"reconstruction\": [], \"kl_div\": [], \"entropy\": []}\n",
        "    title = \"Gumbel VAE with Modified Loss\"\n",
        "    #C_z_step = C_z_fin / num_epochs if num_epochs > 0 else 0\n",
        "    #C_c_step = C_c_fin / num_epochs if num_epochs > 0 else 0\n",
        "\n",
        "    C_z = 0\n",
        "    C_c = 0\n",
        "\n",
        "    for epoch in range(num_epochs):\n",
        "        all_labels = []\n",
        "        all_labels_est = []\n",
        "\n",
        "        for i, (x, labels) in enumerate(data_loader):\n",
        "            x = x.to(device).view(-1, IMAGE_SIZE)\n",
        "            labels = labels.to(device)\n",
        "\n",
        "            x_reconst, mu, log_var, c, logits_c = model(x)\n",
        "            reconst_loss = F.binary_cross_entropy(x_reconst, x, reduction='sum')\n",
        "            #kl_div_z = -0.5 * torch.sum(1 + log_var - mu.pow(2) - log_var.exp())\n",
        "            #kl_div_z_loss = beta * torch.abs(kl_div_z - C_z)\n",
        "            kl_div = -0.5 * torch.sum(1 + log_var - mu.pow(2) - log_var.exp())\n",
        "            probs = F.softmax(logits_c, dim=1)\n",
        "            entropy = -torch.sum(probs * torch.log(probs + 1e-10))\n",
        "            entropy = -torch.sum(c * torch.log(c + 1e-10))\n",
        "            C_z = min(C_z + C_z_fin / num_epochs, C_z_fin)\n",
        "            C_c = min(C_c + C_c_fin / num_epochs, C_c_fin)\n",
        "            loss = reconst_loss + beta  *(kl_div - C_z) + (entropy - C_c)\n",
        "\n",
        "            optimizer.zero_grad()\n",
        "            loss.backward()\n",
        "            optimizer.step()\n",
        "\n",
        "            all_labels.append(labels.cpu().numpy())\n",
        "            all_labels_est.append(probs.argmax(dim=1).cpu().numpy())\n",
        "\n",
        "            # Bookkeeping\n",
        "            data_dict[\"total loss\"].append(loss.item() / len(x))\n",
        "            data_dict[\"reconstruction\"].append(reconst_loss.item() / len(x))\n",
        "            data_dict[\"kl_div\"].append(kl_div.item() / len(x))\n",
        "            data_dict[\"entropy\"].append(entropy.item() / len(x))\n",
        "            data_dict[\"epoch\"].append(epoch + float(1+i) / len(data_loader))\n",
        "\n",
        "            #all_labels.append(labels.cpu().numpy())\n",
        "            #pred_labels = c.argmax(dim=1).cpu().numpy()\n",
        "            #all_labels_est.append(pred_labels)\n",
        "\n",
        "            if (i+1) % 100 == 0:\n",
        "                if verbose:\n",
        "                    print(f\"Epoch[{epoch+1}/{num_epochs}], Step [{i+1}/{len(data_loader)}], \"\n",
        "                          f\"C_z: {C_z:.1f}, C_c: {C_c:.1f}, \"\n",
        "                          f\"Reconst Loss: {reconst_loss.item()/len(x):.4f}, \"\n",
        "                          f\"KL Z: {kl_div.item()/len(x):.4f}, \"\n",
        "                          f\"Entropy: {entropy.item()/len(x):.4f}\")\n",
        "                else:\n",
        "                    live_plot(data_dict, x_key=\"epoch\", title=title)\n",
        "\n",
        "        true_labels = np.concatenate(all_labels)\n",
        "        pred_labels = np.concatenate(all_labels_est)\n",
        "        nmi = normalized_mutual_info_score(true_labels, pred_labels)\n",
        "        nmi_scores.append(nmi)\n",
        "        print(f\"Epoch {epoch+1}, C_z: {C_z:.1f}, C_c: {C_c:.1f}, NMI: {nmi:.4f}\")\n",
        "\n",
        "    live_plot(data_dict, x_key=\"epoch\", title=title)\n",
        "    return nmi_scores"
      ]
    },
    {
      "cell_type": "code",
      "execution_count": null,
      "metadata": {
        "colab": {
          "base_uri": "https://localhost:8080/",
          "height": 487
        },
        "id": "tPNGg4uwSEGY",
        "outputId": "0abc04c5-5f8a-4c15-91b5-b22553b87f1b"
      },
      "outputs": [],
      "source": [
        "# Hyper-parameters\n",
        "num_epochs = 40\n",
        "learning_rate = 1e-3\n",
        "beta = 20\n",
        "C_z_fin = 100\n",
        "C_c_fin = 100\n",
        "\n",
        "model_G = VAE_Gumbel(h_dim=h_dim, z_dim = z_dim).to(device)\n",
        "optimizer = torch.optim.Adam(model_G.parameters(), lr=learning_rate)\n",
        "\n",
        "nmi = train_G_modified_loss(\n",
        "    model_G, data_loader,\n",
        "    num_epochs=num_epochs,\n",
        "    beta=beta,\n",
        "    C_z_fin=C_z_fin,\n",
        "    C_c_fin=C_c_fin,\n",
        "    verbose=False)"
      ]
    },
    {
      "cell_type": "code",
      "execution_count": null,
      "metadata": {
        "colab": {
          "base_uri": "https://localhost:8080/",
          "height": 449
        },
        "id": "G7jIqNvNsV6L",
        "outputId": "38062880-31b2-44b4-abb1-46bf29be4648"
      },
      "outputs": [],
      "source": [
        "plt.plot(nmi)\n",
        "plt.xlabel(\"epoch\")\n",
        "plt.ylabel(\"Normalized Mutual Information\")\n",
        "plt.grid(alpha=.5, which='both')"
      ]
    },
    {
      "cell_type": "code",
      "execution_count": null,
      "metadata": {
        "colab": {
          "base_uri": "https://localhost:8080/",
          "height": 163
        },
        "id": "hMF3LMn1Mtza",
        "outputId": "37925802-ee68-4527-80bc-4c40359cff48"
      },
      "outputs": [],
      "source": [
        "plot_reconstruction(model_G)"
      ]
    },
    {
      "cell_type": "code",
      "execution_count": null,
      "metadata": {
        "colab": {
          "base_uri": "https://localhost:8080/",
          "height": 435
        },
        "id": "tR2sn2l7Mtzg",
        "outputId": "c5e8701b-9002-4cdb-e948-e126c66d912f"
      },
      "outputs": [],
      "source": [
        "plot_conditional_generation(model_G, fix_number=None)"
      ]
    },
    {
      "cell_type": "code",
      "execution_count": null,
      "metadata": {
        "colab": {
          "base_uri": "https://localhost:8080/",
          "height": 130
        },
        "id": "KoF28npFMtzt",
        "outputId": "51d5aae1-cbb7-4be8-9baa-a2ff9af6e463"
      },
      "outputs": [],
      "source": [
        "plot_conditional_generation(model_G, fix_number=2)"
      ]
    },
    {
      "cell_type": "code",
      "execution_count": null,
      "metadata": {
        "colab": {
          "base_uri": "https://localhost:8080/",
          "height": 130
        },
        "id": "UZzTEAgTsV6N",
        "outputId": "ab11b92b-c328-4a00-ac07-deb2917f8ed9"
      },
      "outputs": [],
      "source": [
        "plot_conditional_generation(model_G, fix_number=8)"
      ]
    },
    {
      "cell_type": "markdown",
      "metadata": {
        "id": "4g6uOsTwsV6O"
      },
      "source": [
        "## C.3 - Interpretation of learned results\n",
        "\n",
        "Compare the generated digits from the Conditional VAE model and the modified Gumbel-VAE.\n",
        "The conditional VAE produces all digits in order, which makes for a nice picture; on the other hand, the Gumbel VAE has no way of knowing the order of digits, it must just guess modes of pictures that look the same, so the order is meaningless.\n",
        "Note however the variations of straight/inclined ones, are they present on the same row ?\n",
        "What about shapes from the same row morphing from one digit to another, does it make sense that this was a considered a single mode by the model ? Are there distinct modes corresponding to the same digit, and if so, is it a reasonable distinction ?"
      ]
    },
    {
      "cell_type": "code",
      "execution_count": null,
      "metadata": {
        "colab": {
          "base_uri": "https://localhost:8080/",
          "height": 435
        },
        "id": "VfIal_ECsV6O",
        "outputId": "0790bd33-2d70-45dd-a413-2170d0ba4f40"
      },
      "outputs": [],
      "source": [
        "plot_conditional_generation(model_C, fix_number=None)"
      ]
    },
    {
      "cell_type": "code",
      "execution_count": null,
      "metadata": {
        "colab": {
          "base_uri": "https://localhost:8080/",
          "height": 435
        },
        "id": "2lr0g2WUsV6P",
        "outputId": "27828515-4f5a-4671-aa0e-908f3ca0f936"
      },
      "outputs": [],
      "source": [
        "plot_conditional_generation(model_G, fix_number=None)"
      ]
    },
    {
      "cell_type": "markdown",
      "metadata": {
        "id": "ggILRCoisV6Q"
      },
      "source": [
        "---"
      ]
    },
    {
      "cell_type": "markdown",
      "metadata": {
        "id": "FFGWW--2hMt0"
      },
      "source": [
        "Le VAE conditionnel produit des chiffres ordonnées car il utilise les étiquettes des classes pendant l'entraînement. Pour Gumbel VAE modifié, il doit découvrir lui même les caractéristiques car il n'a pas accès aux labels. Le premier est supervisé et le second non supervisé."
      ]
    },
    {
      "cell_type": "markdown",
      "metadata": {
        "id": "rCTv_sNHiE5B"
      },
      "source": [
        "Dans une même ligne, on observe que les résultats du Gumbel VAE modifié, présentent les variations du même chiffre sur la même ligne. On voit des chiffres avec une rotation différentes regroupés ensemble (0 et 1 par exemple). Ce qui montre que les chiffres malgré une inclinaison différente sont reconnus et que le modèle a appris les différents caractéristiques des chiffres."
      ]
    },
    {
      "cell_type": "markdown",
      "metadata": {
        "id": "OIGew68cjsK-"
      },
      "source": [
        "On observe aussi que certains chiffres sont floutés ou que les formes se transforment et peuvent ressemblés à d'autres chiffres notamment le 3, 5 et 8. Cela est dut au modèle qui découvre des structures similaires entre ces classes; c'est pour cette raison qu'ils peuvent être sur la même ligne."
      ]
    },
    {
      "cell_type": "markdown",
      "metadata": {
        "id": "40hk-n_9kKnH"
      },
      "source": [
        "Il y a des modes distincts qui peuvent être en réalité le même chiffre et c'est explicable lorsque les chiffres sont écrits avec des angles très différents. Ou bien le 7 qui peut ressembler au 1 en fonction de son écriture. Il est donc raisonnable que le Gumbel VAE modifié assigne différents modes au même chiffre."
      ]
    }
  ],
  "metadata": {
    "colab": {
      "provenance": []
    },
    "kernelspec": {
      "display_name": "hackaton",
      "language": "python",
      "name": "python3"
    },
    "language_info": {
      "codemirror_mode": {
        "name": "ipython",
        "version": 3
      },
      "file_extension": ".py",
      "mimetype": "text/x-python",
      "name": "python",
      "nbconvert_exporter": "python",
      "pygments_lexer": "ipython3",
      "version": "3.12.7"
    }
  },
  "nbformat": 4,
  "nbformat_minor": 0
}
